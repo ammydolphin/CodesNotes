{
 "cells": [
  {
   "cell_type": "markdown",
   "metadata": {},
   "source": [
    "# 特征工程\n",
    "\n",
    "## 数据预处理"
   ]
  },
  {
   "cell_type": "markdown",
   "metadata": {},
   "source": [
    "#### 引入模块和数据"
   ]
  },
  {
   "cell_type": "code",
   "execution_count": 9,
   "metadata": {
    "collapsed": false
   },
   "outputs": [
    {
     "name": "stdout",
     "output_type": "stream",
     "text": [
      "初始化数据=\n",
      " [[ 3.  -1.2  2. ]\n",
      " [ 0.   5.   0.3]\n",
      " [ 1.   2.1 -2.1]]\n",
      "数据大小: (3, 3)\n"
     ]
    }
   ],
   "source": [
    "import numpy as np\n",
    "from sklearn import preprocessing\n",
    "\n",
    "# 初始数据\n",
    "data = np.array([[3, -1.2, 2],\n",
    "                [0, 5, 0.3],\n",
    "                [1, 2.1, -2.1]])\n",
    "print('初始化数据=\\n', data)\n",
    "print('数据大小:',data.shape)"
   ]
  },
  {
   "cell_type": "markdown",
   "metadata": {},
   "source": [
    "### 特征缩放"
   ]
  },
  {
   "cell_type": "markdown",
   "metadata": {},
   "source": [
    "#### 归一化处理\n",
    "\n",
    "数据标准化主要功能就是消除变量间的量纲关系，从而使数据具有可比性。"
   ]
  },
  {
   "cell_type": "markdown",
   "metadata": {},
   "source": [
    "##### 线性函数归一化\n",
    "\n",
    "它对原始数据进行线性变换，使得结果映射到[0,1]的范围，实现对原始数据的等比缩放。"
   ]
  },
  {
   "cell_type": "code",
   "execution_count": 6,
   "metadata": {
    "collapsed": false
   },
   "outputs": [
    {
     "name": "stdout",
     "output_type": "stream",
     "text": [
      "原始：\n",
      " [[ 3.  -1.2  2. ]\n",
      " [ 0.   5.   0.3]\n",
      " [ 1.   2.1 -2.1]]\n",
      "\n",
      "经过范围缩放：\n",
      " [[ 1.          0.          1.        ]\n",
      " [ 0.          1.          0.58536585]\n",
      " [ 0.33333333  0.53225806  0.        ]]\n"
     ]
    }
   ],
   "source": [
    "data_scaler=preprocessing.MinMaxScaler(feature_range=(0,1))\n",
    "data_scaled=data_scaler.fit_transform(data)\n",
    "print (\"原始：\\n\",data)\n",
    "print(\"\\n经过范围缩放：\\n\",data_scaled)"
   ]
  },
  {
   "cell_type": "markdown",
   "metadata": {},
   "source": [
    "##### 零均值归一化\n",
    "\n",
    "它会将原始数据映射到均值为 0，标准差为 1 的分布上"
   ]
  },
  {
   "cell_type": "code",
   "execution_count": 2,
   "metadata": {
    "collapsed": false
   },
   "outputs": [
    {
     "name": "stdout",
     "output_type": "stream",
     "text": [
      "原始数据\n",
      " [[ 3.  -1.2  2. ]\n",
      " [ 0.   5.   0.3]\n",
      " [ 1.   2.1 -2.1]]\n",
      "经过标准化处理的数据\n",
      " [[ 1.33630621 -1.25021647  1.14947305]\n",
      " [-1.06904497  1.19757578  0.13872951]\n",
      " [-0.26726124  0.05264069 -1.28820256]]\n"
     ]
    }
   ],
   "source": [
    "data_standardized=preprocessing.scale(data)\n",
    "print(\"原始数据\\n\", data)\n",
    "print(\"经过标准化处理的数据\\n\", data_standardized)"
   ]
  },
  {
   "cell_type": "code",
   "execution_count": 3,
   "metadata": {
    "collapsed": false
   },
   "outputs": [
    {
     "name": "stdout",
     "output_type": "stream",
     "text": [
      "原始均值= [ 1.33333333  1.96666667  0.06666667]\n",
      "标准化后均值= [  5.55111512e-17  -3.70074342e-17   0.00000000e+00]\n"
     ]
    }
   ],
   "source": [
    "print('原始均值=',data.mean(axis=0))\n",
    "print('标准化后均值=',data_standardized.mean(axis=0))"
   ]
  },
  {
   "cell_type": "code",
   "execution_count": 5,
   "metadata": {
    "collapsed": false
   },
   "outputs": [
    {
     "name": "stdout",
     "output_type": "stream",
     "text": [
      "原始方差= [ 1.24721913  2.5328947   1.68193011]\n",
      "标准化后方差= [ 1.  1.  1.]\n"
     ]
    }
   ],
   "source": [
    "print('原始方差=', data.std(axis=0))\n",
    "print('标准化后方差=', data_standardized.std(axis=0))"
   ]
  },
  {
   "cell_type": "markdown",
   "metadata": {},
   "source": [
    "#### 正则化\n",
    "\n",
    "正则化是将样本或者特征的某个范数（如 L1、L2 范数）缩放到单位 1。"
   ]
  },
  {
   "cell_type": "code",
   "execution_count": 10,
   "metadata": {
    "collapsed": false
   },
   "outputs": [
    {
     "name": "stdout",
     "output_type": "stream",
     "text": [
      "原始：\n",
      " [[ 3.  -1.2  2. ]\n",
      " [ 0.   5.   0.3]\n",
      " [ 1.   2.1 -2.1]]\n",
      "L1正则化后：\n",
      " [[ 0.48387097 -0.19354839  0.32258065]\n",
      " [ 0.          0.94339623  0.05660377]\n",
      " [ 0.19230769  0.40384615 -0.40384615]]\n"
     ]
    }
   ],
   "source": [
    "data_normalized_l1=preprocessing.normalize(data,norm='l1')\n",
    "print(\"原始：\\n\",data)\n",
    "print(\"L1正则化后：\\n\",data_normalized_l1)"
   ]
  },
  {
   "cell_type": "code",
   "execution_count": 11,
   "metadata": {
    "collapsed": false
   },
   "outputs": [
    {
     "name": "stdout",
     "output_type": "stream",
     "text": [
      "原始：\n",
      " [[ 3.  -1.2  2. ]\n",
      " [ 0.   5.   0.3]\n",
      " [ 1.   2.1 -2.1]]\n",
      "L1正则化后：\n",
      " [[ 0.78947368 -0.31578947  0.52631579]\n",
      " [ 0.          0.99820485  0.05989229]\n",
      " [ 0.31911282  0.67013693 -0.67013693]]\n"
     ]
    }
   ],
   "source": [
    "data_normalized_l2=preprocessing.normalize(data,norm='l2')\n",
    "print(\"原始：\\n\",data)\n",
    "print(\"L1正则化后：\\n\",data_normalized_l2)"
   ]
  },
  {
   "cell_type": "markdown",
   "metadata": {},
   "source": [
    "### 特征编码"
   ]
  },
  {
   "cell_type": "markdown",
   "metadata": {},
   "source": [
    "#### 序号编码\n",
    "\n",
    "序号编码一般用于处理类别间具有大小关系的数据。"
   ]
  },
  {
   "cell_type": "code",
   "execution_count": 13,
   "metadata": {
    "collapsed": true
   },
   "outputs": [],
   "source": [
    "#（1）.创建标记编码器\n",
    "label_encoder=preprocessing.LabelEncoder()"
   ]
  },
  {
   "cell_type": "code",
   "execution_count": 24,
   "metadata": {
    "collapsed": false
   },
   "outputs": [
    {
     "name": "stdout",
     "output_type": "stream",
     "text": [
      "  grade--->0\n",
      " health--->1\n",
      "   high--->2\n",
      "     id--->3\n",
      "   name--->4\n",
      " weight--->5\n"
     ]
    }
   ],
   "source": [
    "#（2） 用数据训练编码器\n",
    "category_data=['name','id','health','weight','high','grade']\n",
    "label_encoder.fit(category_data)\n",
    "# 创建一个类别映射表\n",
    "for i,item in enumerate(label_encoder.classes_):\n",
    "    print(\"%7s--->%d\"%(item,i))"
   ]
  },
  {
   "cell_type": "code",
   "execution_count": 25,
   "metadata": {
    "collapsed": false
   },
   "outputs": [
    {
     "name": "stdout",
     "output_type": "stream",
     "text": [
      "例子1：\n",
      "labels =  ['name', 'grade']\n",
      "encoded labels =  [4 0]\n"
     ]
    }
   ],
   "source": [
    "labels=['name','grade']\n",
    "encoded_labels=label_encoder.transform(labels)\n",
    "print('例子1：')\n",
    "print(\"labels = \",labels)\n",
    "print(\"encoded labels = \",encoded_labels)"
   ]
  },
  {
   "cell_type": "code",
   "execution_count": 26,
   "metadata": {
    "collapsed": false
   },
   "outputs": [
    {
     "name": "stdout",
     "output_type": "stream",
     "text": [
      "例子2：\n",
      "labels ['health' 'high' 'weight' 'id']\n",
      "encoded labels [1, 2, 5, 3]\n"
     ]
    }
   ],
   "source": [
    "encoded_labels=[1,2,5,3]\n",
    "labels=label_encoder.inverse_transform(encoded_labels)\n",
    "print('例子2：')\n",
    "print(\"labels\",labels)\n",
    "print(\"encoded labels\",encoded_labels)"
   ]
  },
  {
   "cell_type": "markdown",
   "metadata": {},
   "source": [
    "#### 独热编码\n",
    "\n",
    "独热编码是采用 N 位状态位来对 N 个可能的取值进行编码。"
   ]
  },
  {
   "cell_type": "code",
   "execution_count": 27,
   "metadata": {
    "collapsed": false
   },
   "outputs": [
    {
     "name": "stdout",
     "output_type": "stream",
     "text": [
      "<class 'scipy.sparse.csr.csr_matrix'>\n",
      "encoded_vector =\n",
      "    (0, 9)\t1.0\n",
      "  (0, 8)\t1.0\n",
      "  (0, 4)\t1.0\n",
      "  (0, 2)\t1.0\n",
      "encoded_vector =  [[ 0.  0.  1.  0.  1.  0.  0.  0.  1.  1.  0.]]\n"
     ]
    }
   ],
   "source": [
    "encoder=preprocessing.OneHotEncoder()\n",
    "encoder.fit([[0,2,1,12],[1,3,5,3],[2,3,2,12],[1,2,4,3]])\n",
    "encoded_vector=encoder.transform([[2,3,5,3]])   #注意是[[  ]]\n",
    "print(type(encoded_vector))\n",
    "print (\"encoded_vector =\\n \",encoded_vector)\n",
    "print (\"encoded_vector = \",encoded_vector.toarray())"
   ]
  },
  {
   "cell_type": "markdown",
   "metadata": {},
   "source": [
    "#### 二值化\n",
    "\n",
    "将数值型转换为布尔类型"
   ]
  },
  {
   "cell_type": "code",
   "execution_count": 28,
   "metadata": {
    "collapsed": false
   },
   "outputs": [
    {
     "name": "stdout",
     "output_type": "stream",
     "text": [
      "原始：\n",
      " [[ 3.  -1.2  2. ]\n",
      " [ 0.   5.   0.3]\n",
      " [ 1.   2.1 -2.1]]\n",
      "二值化：\n",
      " [[ 1.  0.  1.]\n",
      " [ 0.  1.  0.]\n",
      " [ 0.  1.  0.]]\n"
     ]
    }
   ],
   "source": [
    "# 小于等于1.4的为0，其余为1\n",
    "data = np.array([[3, -1.2, 2],\n",
    "                [0, 5, 0.3],\n",
    "                [1, 2.1, -2.1]])\n",
    "data_binarized=preprocessing.Binarizer(threshold=1.4).transform(data)\n",
    "print(\"原始：\\n\",data)\n",
    "print(\"二值化：\\n\",data_binarized)"
   ]
  },
  {
   "cell_type": "code",
   "execution_count": null,
   "metadata": {
    "collapsed": true
   },
   "outputs": [],
   "source": [
    ""
   ]
  },
  {
   "cell_type": "code",
   "execution_count": null,
   "metadata": {
    "collapsed": true
   },
   "outputs": [],
   "source": [
    ""
   ]
  },
  {
   "cell_type": "code",
   "execution_count": null,
   "metadata": {
    "collapsed": true
   },
   "outputs": [],
   "source": [
    ""
   ]
  },
  {
   "cell_type": "code",
   "execution_count": null,
   "metadata": {
    "collapsed": true
   },
   "outputs": [],
   "source": [
    ""
   ]
  },
  {
   "cell_type": "code",
   "execution_count": null,
   "metadata": {
    "collapsed": true
   },
   "outputs": [],
   "source": [
    ""
   ]
  },
  {
   "cell_type": "code",
   "execution_count": null,
   "metadata": {
    "collapsed": true
   },
   "outputs": [],
   "source": [
    ""
   ]
  },
  {
   "cell_type": "code",
   "execution_count": null,
   "metadata": {
    "collapsed": true
   },
   "outputs": [],
   "source": [
    ""
   ]
  },
  {
   "cell_type": "code",
   "execution_count": null,
   "metadata": {
    "collapsed": true
   },
   "outputs": [],
   "source": [
    ""
   ]
  },
  {
   "cell_type": "code",
   "execution_count": null,
   "metadata": {
    "collapsed": true
   },
   "outputs": [],
   "source": [
    ""
   ]
  }
 ],
 "metadata": {
  "anaconda-cloud": {},
  "kernelspec": {
   "display_name": "Python [conda env:Anaconda3]",
   "language": "python",
   "name": "conda-env-Anaconda3-py"
  },
  "language_info": {
   "codemirror_mode": {
    "name": "ipython",
    "version": 3.0
   },
   "file_extension": ".py",
   "mimetype": "text/x-python",
   "name": "python",
   "nbconvert_exporter": "python",
   "pygments_lexer": "ipython3",
   "version": "3.5.2"
  }
 },
 "nbformat": 4,
 "nbformat_minor": 0
}